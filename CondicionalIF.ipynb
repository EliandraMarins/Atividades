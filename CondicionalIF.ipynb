{
  "nbformat": 4,
  "nbformat_minor": 0,
  "metadata": {
    "colab": {
      "name": "CondicionalIF.ipynb",
      "provenance": [],
      "authorship_tag": "ABX9TyPLAczv5+Zyk1KpMjs/q1sF",
      "include_colab_link": true
    },
    "kernelspec": {
      "name": "python3",
      "display_name": "Python 3"
    }
  },
  "cells": [
    {
      "cell_type": "markdown",
      "metadata": {
        "id": "view-in-github",
        "colab_type": "text"
      },
      "source": [
        "<a href=\"https://colab.research.google.com/github/EliandraMarins/Atividades/blob/master/CondicionalIF.ipynb\" target=\"_parent\"><img src=\"https://colab.research.google.com/assets/colab-badge.svg\" alt=\"Open In Colab\"/></a>"
      ]
    },
    {
      "cell_type": "markdown",
      "metadata": {
        "id": "a4RxDmdnfUoS",
        "colab_type": "text"
      },
      "source": [
        "TOMANDO DECISÕES - **IF**:"
      ]
    },
    {
      "cell_type": "code",
      "metadata": {
        "id": "x57EZ1VxfMyc",
        "colab_type": "code",
        "colab": {
          "base_uri": "https://localhost:8080/",
          "height": 85
        },
        "outputId": "368837df-5e23-46d1-ede0-6bf8fb48b76b"
      },
      "source": [
        "print('Execução antes do IF:')\n",
        "n=float(input('Entre com um número: '))\n",
        "print('Calculando...')\n",
        "if n%2==0:\n",
        "  print('Esse número é par.')  #Caso a condição for verdadeira\n",
        "\n",
        "print('Continuando a execução depois do if...')  \n",
        "#Se a condição for falsa, continua a execução do programa"
      ],
      "execution_count": 27,
      "outputs": [
        {
          "output_type": "stream",
          "text": [
            "Execução antes do IF:\n",
            "Entre com um número: 5\n",
            "Calculando...\n",
            "Continuando a execução depois do if...\n"
          ],
          "name": "stdout"
        }
      ]
    },
    {
      "cell_type": "code",
      "metadata": {
        "id": "XJZoROPBio2N",
        "colab_type": "code",
        "colab": {
          "base_uri": "https://localhost:8080/",
          "height": 68
        },
        "outputId": "7ffb8c90-ac8c-4af8-ed30-1ae226714f9f"
      },
      "source": [
        "print('Execução antes do IF:')\n",
        "n=float(input('Entre com um número: '))\n",
        "if n>0:\n",
        "  print('Esse número é positivo.')\n",
        "\n",
        "print('Continuando a execução depois do if...')  \n",
        "#Se a condição for falsa, continua a execução do programa\n"
      ],
      "execution_count": 31,
      "outputs": [
        {
          "output_type": "stream",
          "text": [
            "Execução antes do IF:\n",
            "Entre com um número: -5\n",
            "Continuando a execução depois do if...\n"
          ],
          "name": "stdout"
        }
      ]
    },
    {
      "cell_type": "code",
      "metadata": {
        "id": "gqUEL3NVjpog",
        "colab_type": "code",
        "colab": {
          "base_uri": "https://localhost:8080/",
          "height": 85
        },
        "outputId": "6ca0fed7-a740-4e84-b761-8bf681795481"
      },
      "source": [
        "i = float(input('Digite um número:'))\n",
        "n = float(input('Digite outro número:'))\n",
        "if (i > n):\n",
        "  print(f'{i} é maior que {n}')  #Se a condição for verdadeira\n",
        "\n",
        "print('Continuando a execução depois do if...')  \n",
        "#Se a condição for falsa, continua a execução do programa"
      ],
      "execution_count": 35,
      "outputs": [
        {
          "output_type": "stream",
          "text": [
            "Digite um número:25\n",
            "Digite outro número:10\n",
            "25.0 é maior que 10.0\n",
            "Continuando a execução depois do if...\n"
          ],
          "name": "stdout"
        }
      ]
    },
    {
      "cell_type": "markdown",
      "metadata": {
        "id": "4xV4j2K1mR20",
        "colab_type": "text"
      },
      "source": [
        "Execução de comandos com **IF-ELSE**:"
      ]
    },
    {
      "cell_type": "code",
      "metadata": {
        "id": "AWKHY3hlmWEf",
        "colab_type": "code",
        "colab": {
          "base_uri": "https://localhost:8080/",
          "height": 102
        },
        "outputId": "e8a1311b-b1de-4b22-d5e3-02b4eadbdd72"
      },
      "source": [
        "print('Execução antes do IF:')\n",
        "n=float(input('Entre com um número: '))\n",
        "print('Calculando...')\n",
        "if n%2==0:\n",
        "  print('Esse número é par.')  #Caso a condição for verdadeira\n",
        "else:   #SENÃO...\n",
        "  print('Esse número é ímpar:') #Caso a condição for falsa\n",
        "print('Continuando a execução depois do if...')  \n"
      ],
      "execution_count": 37,
      "outputs": [
        {
          "output_type": "stream",
          "text": [
            "Execução antes do IF:\n",
            "Entre com um número: 10\n",
            "Calculando...\n",
            "Esse número é par.\n",
            "Continuando a execução depois do if...\n"
          ],
          "name": "stdout"
        }
      ]
    },
    {
      "cell_type": "code",
      "metadata": {
        "id": "2GN6p4T6nAxk",
        "colab_type": "code",
        "colab": {
          "base_uri": "https://localhost:8080/",
          "height": 68
        },
        "outputId": "4f761aec-750a-438b-ed62-72ce2ab92d8c"
      },
      "source": [
        "i = 10   #Mudar os números\n",
        "if (i < 15):\n",
        "  print(\"i é menor que 15\")\n",
        "  print('Execução do if ....')\n",
        "\n",
        "else:\n",
        "  print('i é maior que 15')\n",
        "  print('Execução do else ....')\n",
        "\n",
        "print('Continuando o programa......')"
      ],
      "execution_count": 41,
      "outputs": [
        {
          "output_type": "stream",
          "text": [
            "i é menor que 15\n",
            "Execução do if ....\n",
            "Continuando o programa......\n"
          ],
          "name": "stdout"
        }
      ]
    },
    {
      "cell_type": "markdown",
      "metadata": {
        "id": "N2W61TccnlHh",
        "colab_type": "text"
      },
      "source": [
        "Encontrando o maior valor entre dois números inteiros digitados:"
      ]
    },
    {
      "cell_type": "code",
      "metadata": {
        "id": "n7TkDSe5njbJ",
        "colab_type": "code",
        "colab": {
          "base_uri": "https://localhost:8080/",
          "height": 68
        },
        "outputId": "9ce082f1-5d80-4965-bdd3-d3232aa33421"
      },
      "source": [
        "x=int(input('Digite o primeiro número:'))\n",
        "y=int(input('Digite o segundo número:'))\n",
        "if (x>y):\n",
        "  print('O primeiro valor {%2d} é maior que o segundo valor {%2d}'%(x,y))\n",
        "\n",
        "else:\n",
        "  print('O primeiro valor {%2d} é menor que o segundo valor {%2d}'%(x,y))"
      ],
      "execution_count": 43,
      "outputs": [
        {
          "output_type": "stream",
          "text": [
            "Digite o primeiro número:10\n",
            "Digite o segundo número:25\n",
            "O primeiro valor {10} é menor que o segundo valor {25}\n"
          ],
          "name": "stdout"
        }
      ]
    }
  ]
}