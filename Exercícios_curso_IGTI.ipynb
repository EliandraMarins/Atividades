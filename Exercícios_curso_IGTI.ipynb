{
  "nbformat": 4,
  "nbformat_minor": 0,
  "metadata": {
    "colab": {
      "name": "Exercícios curso IGTI.ipynb",
      "provenance": [],
      "authorship_tag": "ABX9TyNbRV97TqoPMyFu5OL1af8R",
      "include_colab_link": true
    },
    "kernelspec": {
      "name": "python3",
      "display_name": "Python 3"
    }
  },
  "cells": [
    {
      "cell_type": "markdown",
      "metadata": {
        "id": "view-in-github",
        "colab_type": "text"
      },
      "source": [
        "<a href=\"https://colab.research.google.com/github/EliandraMarins/Atividades/blob/master/Exerc%C3%ADcios_curso_IGTI.ipynb\" target=\"_parent\"><img src=\"https://colab.research.google.com/assets/colab-badge.svg\" alt=\"Open In Colab\"/></a>"
      ]
    },
    {
      "cell_type": "markdown",
      "metadata": {
        "id": "XzqAFdpm3SCB",
        "colab_type": "text"
      },
      "source": [
        "Aplicando o teorema de pitágoras:"
      ]
    },
    {
      "cell_type": "code",
      "metadata": {
        "id": "BoBJDnS-TcV-",
        "colab_type": "code",
        "colab": {}
      },
      "source": [
        "b=3   #cateto1\n",
        "c=4   #cateto2\n",
        "a2=(b**2)+(c**2)   #Soma dos catetos ao quadrado\n",
        "a=a2**0.5          #Dividindo pela metade\n",
        "print('O valor da hipotenusa é:',a)"
      ],
      "execution_count": null,
      "outputs": []
    },
    {
      "cell_type": "markdown",
      "metadata": {
        "id": "tnhuD8Bx4PFV",
        "colab_type": "text"
      },
      "source": [
        "Atribuindo valores:"
      ]
    },
    {
      "cell_type": "code",
      "metadata": {
        "id": "_P_upwbaDCzM",
        "colab_type": "code",
        "colab": {}
      },
      "source": [
        "#a=7\n",
        "#b=a\n",
        "#print(id(a))\n",
        "#print(id(b))\n",
        "#id(a)==id(b)\n",
        "\n",
        "#Garbage collector\n",
        "x=1\n",
        "endereco=id(x)\n",
        "print(hex(endereco))\n",
        "x=x+1\n",
        "endereco=id(x)\n",
        "print(hex(endereco))\n"
      ],
      "execution_count": null,
      "outputs": []
    },
    {
      "cell_type": "markdown",
      "metadata": {
        "id": "NjmNkzZm4W_c",
        "colab_type": "text"
      },
      "source": [
        "Demonstrando dados numéricos:"
      ]
    },
    {
      "cell_type": "code",
      "metadata": {
        "id": "Qo18i4T6Gjry",
        "colab_type": "code",
        "colab": {}
      },
      "source": [
        "a=5\n",
        "print(\"Tipo de dados de a:\",type(a))\n",
        "b=5.0\n",
        "print(\"Tipo de dados de b:\",type(b))\n",
        "c=5+5j\n",
        "print(\"Tipo de dados de c:\",type(c))"
      ],
      "execution_count": null,
      "outputs": []
    },
    {
      "cell_type": "markdown",
      "metadata": {
        "id": "4bjrUlCy4eAE",
        "colab_type": "text"
      },
      "source": [
        "Criando uma string:"
      ]
    },
    {
      "cell_type": "code",
      "metadata": {
        "id": "Uax4a7LFIrdE",
        "colab_type": "code",
        "colab": {}
      },
      "source": [
        "String1='Fundamentos de Python no IGTI'\n",
        "print(\"String com aspas simples:\")\n",
        "print(String1)\n",
        "print(type(String1))\n",
        "String1=\"Fundamentos de Python no IGTI\"\n",
        "print(\"String com aspas duplas:\")\n",
        "print(String1)\n",
        "print(type(String1))\n",
        "String1='''Fundamentos de Python \n",
        "        no IGTI'''\n",
        "print(\"String com aspas triplas:\")\n",
        "print(String1)\n",
        "print(type(String1))"
      ],
      "execution_count": null,
      "outputs": []
    },
    {
      "cell_type": "code",
      "metadata": {
        "id": "7QWiRx3vWzAc",
        "colab_type": "code",
        "colab": {}
      },
      "source": [
        "String1=\"InstitutoIGTI\"\n",
        "print(\"String: \")\n",
        "print(String1)\n",
        "print(\"O primeiro caracter da String é:\", String1 [0])\n",
        "print(\"O último caracter da String é:\", String1[-1])\n",
        "#Deletando ou realizando update da string\n",
        "#As posições dos objetos em uma string são imutáveis, portanto, não aceitam update\n",
        "#Assim como não aceitam ser deletadas\n",
        "#NÃO PODE SER FEITO~"
      ],
      "execution_count": null,
      "outputs": []
    },
    {
      "cell_type": "markdown",
      "metadata": {
        "id": "X0Xm5VrZ_7D8",
        "colab_type": "text"
      },
      "source": [
        "Utilizando aspas simples e duplas em um print"
      ]
    },
    {
      "cell_type": "code",
      "metadata": {
        "id": "EjFb1PFQYNBg",
        "colab_type": "code",
        "colab": {}
      },
      "source": [
        "String1 = '''Olá, bem vindo ao 'IGTI'.'''\n",
        "print(\"String com aspas simples:\",String1)\n",
        "\n",
        "String2 = 'Hello, \"Welcome\" to IGTI'\n",
        "print('''String com aspas duplas:''',String2)\n",
        "\n",
        "String3 = \" \\\"Bonjour\\\", Bienvenue à IGTI\"\n",
        "print('''String com aspas duplas:''',String3)"
      ],
      "execution_count": null,
      "outputs": []
    },
    {
      "cell_type": "markdown",
      "metadata": {
        "id": "zg0BaOwL_-lM",
        "colab_type": "text"
      },
      "source": [
        "Transformando tipo numérico em String e vice e versa"
      ]
    },
    {
      "cell_type": "code",
      "metadata": {
        "id": "MMKS75-YenNp",
        "colab_type": "code",
        "colab": {}
      },
      "source": [
        "#Número inteiro\n",
        "n=100\n",
        "print(\"O tipo desse objeto é: \",type(n))\n",
        "#Número inteiro -> String\n",
        "String = str(n)\n",
        "print(\"Agora, o tipo desse objeto é:\",type(String))\n",
        "print('-'*5)\n",
        "#String -> Número inteiro\n",
        "print('valor:',int(String))\n",
        "print('Agora, o tipo é:' ,type(int(String)))"
      ],
      "execution_count": null,
      "outputs": []
    },
    {
      "cell_type": "markdown",
      "metadata": {
        "id": "mdObdPAuAEBG",
        "colab_type": "text"
      },
      "source": [
        "**Listas** - Elementos ordenados, com diferentes objetos agrupados.\n",
        "Abre e fecha com [] e são separados por vírgula\n",
        "\n",
        "---\n",
        "\n",
        "Objetos mutáveis - pode deletar e fazer updade\n",
        "\n",
        "---\n",
        "A posição que o primeiro elemento ocupa é 0 e última é -1"
      ]
    },
    {
      "cell_type": "markdown",
      "metadata": {
        "id": "wkF9aW5NA8GE",
        "colab_type": "text"
      },
      "source": [
        "Lista vazia:"
      ]
    },
    {
      "cell_type": "code",
      "metadata": {
        "id": "fi2q9uXsBUHc",
        "colab_type": "code",
        "colab": {}
      },
      "source": [
        "lista = []  \n",
        "print('Lista vazia:',lista)\n",
        "print(type(lista))   #Tipo \n",
        "print('-'*10)"
      ],
      "execution_count": null,
      "outputs": []
    },
    {
      "cell_type": "markdown",
      "metadata": {
        "id": "x2qZrTGTApnb",
        "colab_type": "text"
      },
      "source": [
        "Lista com string:"
      ]
    },
    {
      "cell_type": "code",
      "metadata": {
        "id": "UTetbZuoAsqQ",
        "colab_type": "code",
        "colab": {}
      },
      "source": [
        "lista = ['IGTI']\n",
        "print('Lista de uma string:',lista)\n",
        "print('-'*10)"
      ],
      "execution_count": null,
      "outputs": []
    },
    {
      "cell_type": "markdown",
      "metadata": {
        "id": "5gEl1u37AxIA",
        "colab_type": "text"
      },
      "source": [
        "Lista com vários valores"
      ]
    },
    {
      "cell_type": "code",
      "metadata": {
        "id": "juO0OgRBA2z_",
        "colab_type": "code",
        "colab": {}
      },
      "source": [
        "lista = ['IGTI','MBA','Python']\n",
        "print('Lista com várias strings:',lista) #listar todas\n",
        "print('Mostra o valor da posição 0:',lista[0]) #Usar o [] pra mostrar um valor específico\n",
        "print('Mostra o valor da posição -1:',lista[-1])\n",
        "print('-'*10)"
      ],
      "execution_count": null,
      "outputs": []
    },
    {
      "cell_type": "markdown",
      "metadata": {
        "id": "NXnBTbQYBFwV",
        "colab_type": "text"
      },
      "source": [
        "Criando lista de listas:"
      ]
    },
    {
      "cell_type": "code",
      "metadata": {
        "id": "_-3JQmGQBHzc",
        "colab_type": "code",
        "colab": {}
      },
      "source": [
        "lista = [['IGTI', 'MBA'],['Python']]\n",
        "print('Lista com várias dimensões:',lista)\n",
        "print('-'*10)"
      ],
      "execution_count": null,
      "outputs": []
    },
    {
      "cell_type": "markdown",
      "metadata": {
        "id": "tip_EAGiBLKM",
        "colab_type": "text"
      },
      "source": [
        "Lista com diferentes tipos de dados:"
      ]
    },
    {
      "cell_type": "code",
      "metadata": {
        "id": "NlOsBKLRmhbw",
        "colab_type": "code",
        "colab": {}
      },
      "source": [
        "lista = [['IGTI','MBA'], 123, 'Python']\n",
        "print('Lista com dados variados:',lista)"
      ],
      "execution_count": null,
      "outputs": []
    },
    {
      "cell_type": "code",
      "metadata": {
        "id": "ioVNO6Elp239",
        "colab_type": "code",
        "colab": {}
      },
      "source": [
        "#Adicionando elementos em uma lista\n",
        "#Usando append *ADICIONA SOMENTE AO FINAL DA LISTA, UM DE CADA VEZ*\n",
        "lista=[1,2,3,4]\n",
        "print('Lista numérica:', lista)\n",
        "lista.append(5)      #Função .append(x)\n",
        "print('Lista com novo valor:', lista)\n",
        "lista.append('IGTI')\n",
        "print('Lista com mais outro valor:', lista)\n",
        "print('-'*50)\n",
        "#Usando insert\n",
        "lista = []  #lista vazia\n",
        "print('Lista vazia:', lista)\n",
        "lista.append('Azul')\n",
        "lista.append('Verde')\n",
        "lista.append('Vermelho')\n",
        "lista.append('Amarelo')\n",
        "print('Lista com cores:', lista)\n",
        "#adicionar em posições específicas\n",
        "lista.insert(2, 'Preto')   #insert(posição,x)\n",
        "lista.insert(0, 'Rosa')\n",
        "print('Lista com elementos em posições específicas', lista)\n",
        "print('-'*50)\n",
        "#Usando método extend *ADICIONA AO FINAL DA LISTA VÁRIOS ELEMENTOS DE CADA VEZ*\n",
        "lista.extend(['Branco', '#00000', '#0008B'])\n",
        "print('Lista após aplicar operação extend()', lista)\n",
        "print('-'*50)\n",
        "#Acessando elementos em uma lista inteira com índice []\n",
        "print('Acessando elementos da lista:')\n",
        "print(lista[0])\n",
        "print(lista[2])\n",
        "#Acessando elementos no 'sentido contrário'\n",
        "#último elemento = -1\n",
        "#enúltimo elemento -2\n",
        "\n",
        "#Acessando valores em listas aninhadas (lista dentro de lista)\n",
        "lista = ['Azul', 'verde', 'vermelho', 'Amarelo',[100,200,300,400]]\n",
        "#Acessando o elemento 200 da lista\n",
        "print('Acessando o elemento 200 da lista aninhada:->',lista[4][1]) #Primeiro tem que localizar em qual posição da lista principal o valor está e depois o localizar onde está dentro da lista\n",
        "print('-'*20)"
      ],
      "execution_count": null,
      "outputs": []
    },
    {
      "cell_type": "code",
      "metadata": {
        "id": "ejk_uQeuwfo-",
        "colab_type": "code",
        "colab": {}
      },
      "source": [
        "#Removendo elementos com remove *REMOVE POR POSIÇÃO OU ELEMENTO*\n",
        "lista = [1,2,3,4,5,6,7,8,9,10,11,12,'azul','verde',35,'amarelo']\n",
        "print('Lista inicial:',lista)\n",
        "lista.remove(5)\n",
        "lista.remove('verde')\n",
        "print('lista após remover os elementos:',lista)\n",
        "print('-'*50)\n",
        "#Removendo elementos com o pop *REMOVE DA ÚLTIMA POSIÇÃO, CASO NÃO ESPECIFICAR\n",
        "lista.pop()\n",
        "print('Lista após usar o pop:', lista)\n",
        "lista.pop(11)\n",
        "print('Lista após especificar a posição a ser removida:', lista)"
      ],
      "execution_count": null,
      "outputs": []
    },
    {
      "cell_type": "markdown",
      "metadata": {
        "id": "jY8CQv8Tybmj",
        "colab_type": "text"
      },
      "source": [
        "**TUPLAS**: Conjunto de elementos iniciados e terminados por ()e separados por vírgulas - São imutáveis\n",
        "**LISTAS:** Conjunto de elementos iniciados e terminados por [] e separados por vírgulas - São mutáveis"
      ]
    },
    {
      "cell_type": "code",
      "metadata": {
        "id": "z2o2VCiOy-Iz",
        "colab_type": "code",
        "colab": {}
      },
      "source": [
        "tupla_1 = ()\n",
        "print('Tupla vazia:', tupla_1)\n",
        "print('Tipo:', type(tupla_1))"
      ],
      "execution_count": null,
      "outputs": []
    },
    {
      "cell_type": "markdown",
      "metadata": {
        "id": "HVESiq6Fzr3X",
        "colab_type": "text"
      },
      "source": [
        "Criando uma tupla com string:"
      ]
    },
    {
      "cell_type": "code",
      "metadata": {
        "id": "0-P4GVwrzwcO",
        "colab_type": "code",
        "colab": {}
      },
      "source": [
        "tupla_1 = ('IGTI' , 'Python')\n",
        "print('Tupla com string:', tupla_1)"
      ],
      "execution_count": null,
      "outputs": []
    },
    {
      "cell_type": "markdown",
      "metadata": {
        "id": "Iu7NklAU0Bc9",
        "colab_type": "text"
      },
      "source": [
        "Criando uma tupla através de uma lista:"
      ]
    },
    {
      "cell_type": "code",
      "metadata": {
        "id": "g8ugR-ZN0Ej9",
        "colab_type": "code",
        "colab": {}
      },
      "source": [
        "lista_1 = [1,2,3,4,5,6]\n",
        "print('Tupla através de uma lista:', tuple(lista_1))"
      ],
      "execution_count": null,
      "outputs": []
    },
    {
      "cell_type": "markdown",
      "metadata": {
        "id": "jynoMIZV0YZ-",
        "colab_type": "text"
      },
      "source": [
        "Criando uma tupla através da palavra tuple:"
      ]
    },
    {
      "cell_type": "code",
      "metadata": {
        "id": "XiT-pZwa0h7g",
        "colab_type": "code",
        "colab": {}
      },
      "source": [
        "tupla_1 = tuple('IGTI')\n",
        "print('Tupla criada através da função tuple():', tupla_1)"
      ],
      "execution_count": null,
      "outputs": []
    },
    {
      "cell_type": "markdown",
      "metadata": {
        "id": "WWt6jLN61OaU",
        "colab_type": "text"
      },
      "source": [
        "Criando tuplas aninhadas:"
      ]
    },
    {
      "cell_type": "code",
      "metadata": {
        "id": "cJunx9qw1SPB",
        "colab_type": "code",
        "colab": {
          "base_uri": "https://localhost:8080/",
          "height": 34
        },
        "outputId": "4f13014b-c09f-49e9-bac6-0a095e6649ea"
      },
      "source": [
        "tupla_1 = (0,1,2,3)\n",
        "tupla_2 = ('Python', 'IGTI')\n",
        "tupla_3 = (tupla_1, tupla_2)\n",
        "print('Tuplas aninhadas:' , tupla_3)"
      ],
      "execution_count": 133,
      "outputs": [
        {
          "output_type": "stream",
          "text": [
            "Tuplas aninhadas: ((0, 1, 2, 3), ('Python', 'IGTI'))\n"
          ],
          "name": "stdout"
        }
      ]
    },
    {
      "cell_type": "markdown",
      "metadata": {
        "id": "UuR65F_G12b7",
        "colab_type": "text"
      },
      "source": [
        "Acessando elementos em uma tupla:\n",
        "\n",
        "---\n",
        "\n",
        "\n",
        "Criando uma tupla através da função:"
      ]
    },
    {
      "cell_type": "code",
      "metadata": {
        "id": "Y5g8MlrR2C-X",
        "colab_type": "code",
        "colab": {}
      },
      "source": [
        "tupla_1 = tuple([1,2,3,4,5])\n",
        "\n",
        "#Acessando os elementos através do índice\n",
        "print('Primeiro elemento da tupla:', tupla_1[0])\n",
        "print('ùltimo elemento da tupla:', tupla_1[-1])\n",
        "print('Penúltimo elemento da tupla:', tupla_1[-2])"
      ],
      "execution_count": null,
      "outputs": []
    },
    {
      "cell_type": "markdown",
      "metadata": {
        "id": "yhHtyFTA3X_P",
        "colab_type": "text"
      },
      "source": [
        "Valores booleanos: **True or False** para comparação de valores:"
      ]
    },
    {
      "cell_type": "code",
      "metadata": {
        "id": "UlTaFtt13tes",
        "colab_type": "code",
        "colab": {}
      },
      "source": [
        "print('A classe é:', type(True))\n",
        "print('A classe é:', type(False))"
      ],
      "execution_count": null,
      "outputs": []
    },
    {
      "cell_type": "markdown",
      "metadata": {
        "id": "ahb7QnEl41o0",
        "colab_type": "text"
      },
      "source": [
        "Conjuntos (set) são agrupamento de elementos definidos dentro de {} e separados por vírgula.\n",
        "\n",
        "---\n",
        "\n",
        "É mutável e não suporta elementos duplicados.\n",
        "\n",
        "---\n",
        "\n",
        "Em conjuntos, não é possível acessar os elementos de forma sequencial, como listas ou tuplas."
      ]
    },
    {
      "cell_type": "code",
      "metadata": {
        "id": "DHgl1DDa47ny",
        "colab_type": "code",
        "colab": {}
      },
      "source": [
        "conjunto_a = set()\n",
        "print('Conjunto vazio:', conjunto_a)"
      ],
      "execution_count": null,
      "outputs": []
    },
    {
      "cell_type": "markdown",
      "metadata": {
        "id": "qJ8-E0DP57w3",
        "colab_type": "text"
      },
      "source": [
        "Criando um conjunto via uma string:\n"
      ]
    },
    {
      "cell_type": "code",
      "metadata": {
        "id": "ydmOhMUI57VS",
        "colab_type": "code",
        "colab": {}
      },
      "source": [
        "conjunto_a = set('Python')\n",
        "print('Conjunto com uma string:', conjunto_a)  #Cria o conjunto de maneira desordenada"
      ],
      "execution_count": null,
      "outputs": []
    },
    {
      "cell_type": "markdown",
      "metadata": {
        "id": "CakJGfM56RnJ",
        "colab_type": "text"
      },
      "source": [
        "Criar um conjunto a partir de uma lista"
      ]
    },
    {
      "cell_type": "code",
      "metadata": {
        "id": "ewjJKINc6Utr",
        "colab_type": "code",
        "colab": {}
      },
      "source": [
        "conjunto_a = set(['IGTI', 'MBA', 'IGTI'])\n",
        "print('Conjunto via lista:', conjunto_a)  #Não mostra os valores duplicados"
      ],
      "execution_count": null,
      "outputs": []
    },
    {
      "cell_type": "markdown",
      "metadata": {
        "id": "ZtOJIdY26q_H",
        "colab_type": "text"
      },
      "source": [
        "Criando conjunto com vários tipos de elementos:"
      ]
    },
    {
      "cell_type": "code",
      "metadata": {
        "id": "7kXwaj0r6uXA",
        "colab_type": "code",
        "colab": {}
      },
      "source": [
        "conjunto_a = set([1,2, 'IGTI',4, 'BOOTCAMP', 6, 'MBA'])\n",
        "print('Conjunto com valores de tipos diferentes:', conjunto_a)"
      ],
      "execution_count": null,
      "outputs": []
    },
    {
      "cell_type": "markdown",
      "metadata": {
        "id": "nBM9sc_A7Gvw",
        "colab_type": "text"
      },
      "source": [
        "Adicionando elemento a um conjunto com o add()- Somente um elemento de cada vez"
      ]
    },
    {
      "cell_type": "code",
      "metadata": {
        "id": "5MhlNNNU7ML4",
        "colab_type": "code",
        "colab": {}
      },
      "source": [
        "conjunto_a = set()\n",
        "print('Conjunto inicial:', conjunto_a )\n",
        "conjunto_a.add(8) #Elemento do tipo inteiro\n",
        "conjunto_a.add(9) #Elemento do tipo inteiro\n",
        "conjunto_a.add((6,7))  #Elemento de tipo tupla\n",
        "print('Conjunto após adição de valores:', conjunto_a)"
      ],
      "execution_count": null,
      "outputs": []
    },
    {
      "cell_type": "markdown",
      "metadata": {
        "id": "sDKzZL8j73v3",
        "colab_type": "text"
      },
      "source": [
        "Adicionando elemento a um conjunto através da função update() - Vários elementos"
      ]
    },
    {
      "cell_type": "code",
      "metadata": {
        "id": "fEW0fY447-a3",
        "colab_type": "code",
        "colab": {}
      },
      "source": [
        "conjunto_a.update([10,11])   #Adicionando uma lista de elementos\n",
        "print('Adicionando valores ao conjunto com a função update():', conjunto_a)"
      ],
      "execution_count": null,
      "outputs": []
    },
    {
      "cell_type": "markdown",
      "metadata": {
        "id": "BG-YW-tl8cp2",
        "colab_type": "text"
      },
      "source": [
        "Acessando elementos em um conjunto através de um loop:"
      ]
    },
    {
      "cell_type": "code",
      "metadata": {
        "id": "MLEEAtrp8e7V",
        "colab_type": "code",
        "colab": {}
      },
      "source": [
        "conjunto_a = set(['IGTI', 'BOOTCAMP', 'PYTHON'])\n",
        "print('Conjunto inicial:')\n",
        "for elemento in conjunto_a:\n",
        "  print(elemento, end=\" \")"
      ],
      "execution_count": null,
      "outputs": []
    },
    {
      "cell_type": "markdown",
      "metadata": {
        "id": "M1Z7_3N896Vk",
        "colab_type": "text"
      },
      "source": [
        "Verificar se um elemento pertence ao conjunto:"
      ]
    },
    {
      "cell_type": "code",
      "metadata": {
        "id": "FcCdgu4297-0",
        "colab_type": "code",
        "colab": {}
      },
      "source": [
        "#Verificar se um elemento pertence ao conjunto:\n",
        "print(\"Existe a palavra IGTI no conjunto?\",'IGTI' in conjunto_a)"
      ],
      "execution_count": null,
      "outputs": []
    },
    {
      "cell_type": "markdown",
      "metadata": {
        "id": "LQk5N6fT-T9j",
        "colab_type": "text"
      },
      "source": [
        "Removendo elemento de um conjunto com a função remove():"
      ]
    },
    {
      "cell_type": "code",
      "metadata": {
        "id": "MILySGOz-fER",
        "colab_type": "code",
        "colab": {
          "base_uri": "https://localhost:8080/",
          "height": 51
        },
        "outputId": "681bf824-0ccf-4cd5-dd7f-6a2a859c31dd"
      },
      "source": [
        "conjunto_a = set([1,2,3,4,5,6,7,8,9,10,11,12])\n",
        "print('Conjunto inicial:', conjunto_a)\n",
        "conjunto_a.remove(5)\n",
        "conjunto_a.remove(6)\n",
        "print('Conjunto após a remoção:', conjunto_a)"
      ],
      "execution_count": 162,
      "outputs": [
        {
          "output_type": "stream",
          "text": [
            "Conjunto inicial: {1, 2, 3, 4, 5, 6, 7, 8, 9, 10, 11, 12}\n",
            "Conjunto após a remoção {1, 2, 3, 4, 7, 8, 9, 10, 11, 12}\n"
          ],
          "name": "stdout"
        }
      ]
    },
    {
      "cell_type": "markdown",
      "metadata": {
        "id": "TK_W-dx5--do",
        "colab_type": "text"
      },
      "source": [
        "Removendo elementos com o método discard():"
      ]
    },
    {
      "cell_type": "code",
      "metadata": {
        "id": "rzJtQBqZ_Cfo",
        "colab_type": "code",
        "colab": {
          "base_uri": "https://localhost:8080/",
          "height": 34
        },
        "outputId": "40f64d29-55b7-4bac-93b2-e42776af4f63"
      },
      "source": [
        "conjunto_a.discard(8)\n",
        "conjunto_a.discard(9)\n",
        "print('Conjunto após a remoção:', conjunto_a)"
      ],
      "execution_count": 163,
      "outputs": [
        {
          "output_type": "stream",
          "text": [
            "Conjunto após a remoção: {1, 2, 3, 4, 7, 10, 11, 12}\n"
          ],
          "name": "stdout"
        }
      ]
    },
    {
      "cell_type": "markdown",
      "metadata": {
        "id": "PfpagkSO_Qhn",
        "colab_type": "text"
      },
      "source": [
        "Removendo elementos com o método pop():\n",
        "\n"
      ]
    },
    {
      "cell_type": "code",
      "metadata": {
        "id": "Iv9uutcj_Ywv",
        "colab_type": "code",
        "colab": {
          "base_uri": "https://localhost:8080/",
          "height": 34
        },
        "outputId": "14a8915e-d7d1-444a-ebde-55df5f109a73"
      },
      "source": [
        "conjunto_a.pop()    #remove o primeiro elemento\n",
        "print('Removendo elemento com o pop:', conjunto_a)"
      ],
      "execution_count": 164,
      "outputs": [
        {
          "output_type": "stream",
          "text": [
            "Removendo elemento com o pop: {2, 3, 4, 7, 10, 11, 12}\n"
          ],
          "name": "stdout"
        }
      ]
    },
    {
      "cell_type": "markdown",
      "metadata": {
        "id": "Bxz4fgI6_nGu",
        "colab_type": "text"
      },
      "source": [
        "Removendo todos os elementos com clear():"
      ]
    },
    {
      "cell_type": "code",
      "metadata": {
        "id": "pGvCUhsu_qxW",
        "colab_type": "code",
        "colab": {
          "base_uri": "https://localhost:8080/",
          "height": 34
        },
        "outputId": "45c5fb0b-fff4-47cc-9568-5a389b7cce94"
      },
      "source": [
        "conjunto_a.clear()\n",
        "print('Removendo todos os elementos do conjunto com o clear():', conjunto_a)"
      ],
      "execution_count": 165,
      "outputs": [
        {
          "output_type": "stream",
          "text": [
            "Removendo todos os elementos do conjunto com o clear(): set()\n"
          ],
          "name": "stdout"
        }
      ]
    },
    {
      "cell_type": "markdown",
      "metadata": {
        "id": "Pw5A487vBiM0",
        "colab_type": "text"
      },
      "source": [
        "Diferentes operações em conjuntos: \n",
        "\n",
        "---\n",
        "\n",
        "\n",
        "União: Conjunto C é a junção do conjunto A e B\n",
        "\n",
        "---\n",
        "\n",
        "\n",
        "Interseção: Conjunto C contém elementos iguais pertencentes ao conjunto A e B\n",
        "\n",
        "---\n",
        "\n",
        "\n",
        "Diferença: Resposta da diferente entre conjunto A e B. (resultado, somente elementos do primeiro grupo.\n",
        "\n",
        "---\n",
        "\n",
        "\n",
        "Diferença simétrica: União menos os valores de interseção."
      ]
    },
    {
      "cell_type": "code",
      "metadata": {
        "id": "4E1uSLcVCfi1",
        "colab_type": "code",
        "colab": {
          "base_uri": "https://localhost:8080/",
          "height": 51
        },
        "outputId": "1bd01547-fdf1-4758-f1fa-bce1eee5d96d"
      },
      "source": [
        "conjunto_a=set([1,2,3])\n",
        "conjunto_b=set([3,4,5])\n",
        "print('Conjunto A:' , conjunto_a)\n",
        "print('Conjunto B:', conjunto_b)"
      ],
      "execution_count": 183,
      "outputs": [
        {
          "output_type": "stream",
          "text": [
            "Conjunto A: {1, 2, 3}\n",
            "Conjunto B: {3, 4, 5}\n"
          ],
          "name": "stdout"
        }
      ]
    },
    {
      "cell_type": "markdown",
      "metadata": {
        "id": "DWKT1gEXC-Gw",
        "colab_type": "text"
      },
      "source": [
        "**UNIÃO :** x.union(**x**)"
      ]
    },
    {
      "cell_type": "code",
      "metadata": {
        "id": "Z6_-hmznENDn",
        "colab_type": "code",
        "colab": {
          "base_uri": "https://localhost:8080/",
          "height": 34
        },
        "outputId": "e76d65fe-6a12-49dc-9486-85a66ea9d36b"
      },
      "source": [
        "uniao=conjunto_a.union(conjunto_b)\n",
        "print('União AUB:', uniao)"
      ],
      "execution_count": 184,
      "outputs": [
        {
          "output_type": "stream",
          "text": [
            "União AUB: {1, 2, 3, 4, 5}\n"
          ],
          "name": "stdout"
        }
      ]
    },
    {
      "cell_type": "markdown",
      "metadata": {
        "id": "WPN2PLNUE3TH",
        "colab_type": "text"
      },
      "source": [
        "**INTERSEÇÃO :** x.intersection(x)"
      ]
    },
    {
      "cell_type": "code",
      "metadata": {
        "id": "npR9wO2VE_vE",
        "colab_type": "code",
        "colab": {
          "base_uri": "https://localhost:8080/",
          "height": 34
        },
        "outputId": "a9e2d130-0ec5-4f53-8df1-c796e5c3aab9"
      },
      "source": [
        "intersecao=conjunto_a.intersection(conjunto_b)\n",
        "print('Interseção entre A e B:', intersecao)"
      ],
      "execution_count": 185,
      "outputs": [
        {
          "output_type": "stream",
          "text": [
            "Interseção entre A e B: {3}\n"
          ],
          "name": "stdout"
        }
      ]
    },
    {
      "cell_type": "markdown",
      "metadata": {
        "id": "cCc4ZjU9FXET",
        "colab_type": "text"
      },
      "source": [
        "**DIFERENÇA :** x.difference(x)"
      ]
    },
    {
      "cell_type": "code",
      "metadata": {
        "id": "PNwddtXsFb-D",
        "colab_type": "code",
        "colab": {}
      },
      "source": [
        "diferenca=conjunto_a.difference(conjunto_b)\n",
        "print('Diferença entre A e B:', diferenca)"
      ],
      "execution_count": null,
      "outputs": []
    },
    {
      "cell_type": "markdown",
      "metadata": {
        "id": "x01Ve-89FnX7",
        "colab_type": "text"
      },
      "source": [
        "**DIFERENÇA SIMÉTRICA :** x.symmetric_difference(x)"
      ]
    },
    {
      "cell_type": "code",
      "metadata": {
        "id": "SdgQVHx_F1Pm",
        "colab_type": "code",
        "colab": {}
      },
      "source": [
        "diferenca_simetrica=conjunto_a.symmetric_difference(conjunto_b)\n",
        "print('A diferença simétrica entre A e B:', diferenca_simetrica)"
      ],
      "execution_count": null,
      "outputs": []
    },
    {
      "cell_type": "markdown",
      "metadata": {
        "id": "lXYv9jrWGTbK",
        "colab_type": "text"
      },
      "source": [
        "---\n",
        "Tipo de dados: Dicionários\n",
        "\n",
        "Cada chave (número) vai referenciar um valor (x). Sempre em pares e com uso de chaves para abrir e fechar o dicionario)\n"
      ]
    },
    {
      "cell_type": "code",
      "metadata": {
        "id": "iJzxIx8TGYrL",
        "colab_type": "code",
        "colab": {
          "base_uri": "https://localhost:8080/",
          "height": 34
        },
        "outputId": "30d75a56-2ddf-4d5b-e4c0-8c0d062c4dfb"
      },
      "source": [
        "dicionario = {}\n",
        "print('Dicionário vazio:', type(dicionario))\n"
      ],
      "execution_count": 199,
      "outputs": [
        {
          "output_type": "stream",
          "text": [
            "Dicionário vazio: <class 'dict'>\n"
          ],
          "name": "stdout"
        }
      ]
    },
    {
      "cell_type": "markdown",
      "metadata": {
        "id": "HI1QUj21HUfS",
        "colab_type": "text"
      },
      "source": [
        "Criando um dicionário com chaves inteiras:"
      ]
    },
    {
      "cell_type": "code",
      "metadata": {
        "id": "yqrJlEjeHYi9",
        "colab_type": "code",
        "colab": {
          "base_uri": "https://localhost:8080/",
          "height": 34
        },
        "outputId": "0e77ada7-a4fb-41a0-cd0b-47e567af6f12"
      },
      "source": [
        "dicionario = {1: 'IGTI', 2:'BOOTCAMP', 3:'IGTI'}\n",
        "print('Dicionario com chaves inteiras:', dicionario)"
      ],
      "execution_count": 192,
      "outputs": [
        {
          "output_type": "stream",
          "text": [
            "Dicionario com chaves inteiras: {1: 'IGTI', 2: 'BOOTCAMP', 3: 'IGTI'}\n"
          ],
          "name": "stdout"
        }
      ]
    },
    {
      "cell_type": "markdown",
      "metadata": {
        "id": "oeltlHeyH4m-",
        "colab_type": "text"
      },
      "source": [
        "Dicionário com vários tipos de chaves e valores:"
      ]
    },
    {
      "cell_type": "code",
      "metadata": {
        "id": "O6pmrsDEH7Fu",
        "colab_type": "code",
        "colab": {
          "base_uri": "https://localhost:8080/",
          "height": 34
        },
        "outputId": "8da80baf-1273-4b54-eb69-0d505bca840c"
      },
      "source": [
        "dicionario = {'escola': 'IGTI', 1: [1,2,3,4]}    #chave como string e como int\n",
        "print('Dicionário com diferentes tipos de chaves e valores:', dicionario)"
      ],
      "execution_count": 193,
      "outputs": [
        {
          "output_type": "stream",
          "text": [
            "Dicionário com diferentes tipos de chaves e valores: {'escola': 'IGTI', 1: [1, 2, 3, 4]}\n"
          ],
          "name": "stdout"
        }
      ]
    },
    {
      "cell_type": "markdown",
      "metadata": {
        "id": "12CC2LMdIY_Y",
        "colab_type": "text"
      },
      "source": [
        "Criando objeto tipo dicionário com o dict:"
      ]
    },
    {
      "cell_type": "code",
      "metadata": {
        "id": "Sir0-u7FIioP",
        "colab_type": "code",
        "colab": {
          "base_uri": "https://localhost:8080/",
          "height": 34
        },
        "outputId": "562c31c3-e7c5-40fe-cbd6-029002de9ebb"
      },
      "source": [
        "dicionario = dict({1: 'IGTI', 2:'BOOTCAMP', 3:'IGTI'})\n",
        "print('Criando dicionario com o método dict:', dicionario)"
      ],
      "execution_count": 195,
      "outputs": [
        {
          "output_type": "stream",
          "text": [
            "Criando dicionario com o método dict: {1: 'IGTI', 2: 'BOOTCAMP', 3: 'IGTI'}\n"
          ],
          "name": "stdout"
        }
      ]
    },
    {
      "cell_type": "markdown",
      "metadata": {
        "id": "813y8J_3JCB_",
        "colab_type": "text"
      },
      "source": [
        "Criando dicionário com o estilo (chave, valor):"
      ]
    },
    {
      "cell_type": "code",
      "metadata": {
        "id": "EcKQT_XLJIYa",
        "colab_type": "code",
        "colab": {
          "base_uri": "https://localhost:8080/",
          "height": 34
        },
        "outputId": "ae0d18bb-a187-49e3-e7d8-2129081e0322"
      },
      "source": [
        "dicionario=dict([(1,'IGTI'), (2,'BOOTCAMP')])\n",
        "print(\"Criando dicionaro com 'par' de dados:\", dicionario)"
      ],
      "execution_count": 201,
      "outputs": [
        {
          "output_type": "stream",
          "text": [
            "Criando dicionaro com 'par' de dados: {1: 'IGTI', 2: 'BOOTCAMP'}\n"
          ],
          "name": "stdout"
        }
      ]
    },
    {
      "cell_type": "markdown",
      "metadata": {
        "id": "-wy-RB54JnO8",
        "colab_type": "text"
      },
      "source": [
        "Adicionando elementos a um dicionário:"
      ]
    },
    {
      "cell_type": "code",
      "metadata": {
        "id": "gRf6lMBLJsrK",
        "colab_type": "code",
        "colab": {
          "base_uri": "https://localhost:8080/",
          "height": 51
        },
        "outputId": "40a82c37-fb10-45b7-9ab7-1a4af589d9a5"
      },
      "source": [
        "dicionario = {}\n",
        "print('Dicionário vazio:', dicionario)\n",
        "\n",
        "dicionario[0] = 'IGTI'      #chave 0 atribuindo o valor IGTI\n",
        "dicionario[2] = 'BOOTCAMP'  #chave 0 atribuindo o valor BOOTCAMP\n",
        "dicionario[3] = 1           #chave 3 atribuindo o valor 1\n",
        "\n",
        "print('Adicionando 3 elementos a um dicionário:', dicionario)"
      ],
      "execution_count": 204,
      "outputs": [
        {
          "output_type": "stream",
          "text": [
            "Dicionário vazio: {}\n",
            "Adicionando 3 elementos a um dicionário: {0: 'IGTI', 2: 'BOOTCAMP', 3: 1}\n"
          ],
          "name": "stdout"
        }
      ]
    },
    {
      "cell_type": "markdown",
      "metadata": {
        "id": "CPk1-inQKYr7",
        "colab_type": "text"
      },
      "source": [
        "Realizando a atualização de um elemento em um dicionário:"
      ]
    },
    {
      "cell_type": "code",
      "metadata": {
        "id": "rb6IlfLWKbwn",
        "colab_type": "code",
        "colab": {
          "base_uri": "https://localhost:8080/",
          "height": 34
        },
        "outputId": "6e47b693-4895-4181-c00d-c9e1c7260558"
      },
      "source": [
        "dicionario[2] = 'MBA'\n",
        "print('Atualizando o valor com chave [2] no dicionário:', dicionario)"
      ],
      "execution_count": 205,
      "outputs": [
        {
          "output_type": "stream",
          "text": [
            "Atualizando o valor com chave [2] no dicionário: {0: 'IGTI', 2: 'MBA', 3: 1}\n"
          ],
          "name": "stdout"
        }
      ]
    },
    {
      "cell_type": "markdown",
      "metadata": {
        "id": "630HEKQMKqc6",
        "colab_type": "text"
      },
      "source": [
        ""
      ]
    },
    {
      "cell_type": "markdown",
      "metadata": {
        "id": "WY04SWMEK4_5",
        "colab_type": "text"
      },
      "source": [
        "Acessando elementos em um dicionário:\n",
        "\n",
        "---\n",
        "\n",
        "\n",
        "Através da chave:"
      ]
    },
    {
      "cell_type": "code",
      "metadata": {
        "id": "kyL0ZoVTJ9s5",
        "colab_type": "code",
        "colab": {
          "base_uri": "https://localhost:8080/",
          "height": 34
        },
        "outputId": "6c3a1e52-22ca-40d5-9be8-1c2881d78d20"
      },
      "source": [
        "dicionario = {'a': 'azul', 'v': 'verde', 'r': 'rosa'}\n",
        "print('Acessando um elemento através da chave:',dicionario['a'])  #dicionario[chave]\n"
      ],
      "execution_count": 209,
      "outputs": [
        {
          "output_type": "stream",
          "text": [
            "Acessando um elemento através da chave: rosa\n"
          ],
          "name": "stdout"
        }
      ]
    },
    {
      "cell_type": "markdown",
      "metadata": {
        "id": "z1rno82WLbkz",
        "colab_type": "text"
      },
      "source": [
        "Através do método get():"
      ]
    },
    {
      "cell_type": "code",
      "metadata": {
        "id": "n-LaaKCTLbVU",
        "colab_type": "code",
        "colab": {
          "base_uri": "https://localhost:8080/",
          "height": 34
        },
        "outputId": "45ba057f-8691-48bb-a3fc-dd2b88fa3512"
      },
      "source": [
        "print('Acessando um elemento através do get():', dicionario.get('v'))"
      ],
      "execution_count": 210,
      "outputs": [
        {
          "output_type": "stream",
          "text": [
            "Acessando um elemento através do get(): verde\n"
          ],
          "name": "stdout"
        }
      ]
    },
    {
      "cell_type": "markdown",
      "metadata": {
        "id": "ndWtdhzbLsuJ",
        "colab_type": "text"
      },
      "source": [
        "Removendo um elemento de um dicionário:"
      ]
    },
    {
      "cell_type": "code",
      "metadata": {
        "id": "2zDslv-7Lvpy",
        "colab_type": "code",
        "colab": {
          "base_uri": "https://localhost:8080/",
          "height": 34
        },
        "outputId": "f1d0d469-3670-4f0d-ce1c-d0e3cbc18838"
      },
      "source": [
        "dicionario = {1:'IGTI', 2:'BOOTCAMP', 3:'MBA',\n",
        "              'brasil': {'v': 'verde', 'a': 'azul', 'am': 'Amarelo'},\n",
        "              'minas': {'vm':'vermelha', 'b': 'branca'}}\n",
        "print('Dicionario Inicial:', dicionario)"
      ],
      "execution_count": 224,
      "outputs": [
        {
          "output_type": "stream",
          "text": [
            "Dicionario Inicial: {1: 'IGTI', 2: 'BOOTCAMP', 3: 'MBA', 'brasil': {'v': 'verde', 'a': 'azul', 'am': 'Amarelo'}, 'minas': {'vm': 'vermelha', 'b': 'branca'}}\n"
          ],
          "name": "stdout"
        }
      ]
    },
    {
      "cell_type": "markdown",
      "metadata": {
        "id": "pR0UNy4VNEHl",
        "colab_type": "text"
      },
      "source": [
        "Deletando um valor pela chave:"
      ]
    },
    {
      "cell_type": "code",
      "metadata": {
        "id": "OHXuuKU4NGu9",
        "colab_type": "code",
        "colab": {
          "base_uri": "https://localhost:8080/",
          "height": 34
        },
        "outputId": "557e0439-26b9-4d71-ab3f-99a8cee54254"
      },
      "source": [
        "del dicionario [3]\n",
        "print('Deletando um elemento via chave:', dicionario)"
      ],
      "execution_count": 225,
      "outputs": [
        {
          "output_type": "stream",
          "text": [
            "Deletando um elemento via chave: {1: 'IGTI', 2: 'BOOTCAMP', 'brasil': {'v': 'verde', 'a': 'azul', 'am': 'Amarelo'}, 'minas': {'vm': 'vermelha', 'b': 'branca'}}\n"
          ],
          "name": "stdout"
        }
      ]
    },
    {
      "cell_type": "markdown",
      "metadata": {
        "id": "YcL4crKXNNSu",
        "colab_type": "text"
      },
      "source": [
        "Deletando uma chave com pop():"
      ]
    },
    {
      "cell_type": "code",
      "metadata": {
        "id": "Fh4z40rxNWm0",
        "colab_type": "code",
        "colab": {
          "base_uri": "https://localhost:8080/",
          "height": 34
        },
        "outputId": "bd79fc30-7d2a-4069-dfa6-4636c923c811"
      },
      "source": [
        "dicionario.pop(2)\n",
        "print('Eliminando uma chave com pop():', dicionario)"
      ],
      "execution_count": 226,
      "outputs": [
        {
          "output_type": "stream",
          "text": [
            "Eliminando uma chave com pop(): {1: 'IGTI', 'brasil': {'v': 'verde', 'a': 'azul', 'am': 'Amarelo'}, 'minas': {'vm': 'vermelha', 'b': 'branca'}}\n"
          ],
          "name": "stdout"
        }
      ]
    },
    {
      "cell_type": "markdown",
      "metadata": {
        "id": "gC_9jvJcNgtY",
        "colab_type": "text"
      },
      "source": [
        "Deletando um item aleatório com pop.item():"
      ]
    },
    {
      "cell_type": "code",
      "metadata": {
        "id": "ZVKQu_7_Oejy",
        "colab_type": "code",
        "colab": {
          "base_uri": "https://localhost:8080/",
          "height": 34
        },
        "outputId": "d9319e40-b051-49b7-83bb-1fcd51e43ccc"
      },
      "source": [
        "dicionario.popitem()\n",
        "print('Deletando um valor arbitrário:', dicionario)"
      ],
      "execution_count": 227,
      "outputs": [
        {
          "output_type": "stream",
          "text": [
            "Deletando um valor arbitrário: {1: 'IGTI', 'brasil': {'v': 'verde', 'a': 'azul', 'am': 'Amarelo'}}\n"
          ],
          "name": "stdout"
        }
      ]
    },
    {
      "cell_type": "markdown",
      "metadata": {
        "id": "RSI8-AgrOpTa",
        "colab_type": "text"
      },
      "source": [
        "Deletando um dicionário inteiro com .clear():"
      ]
    },
    {
      "cell_type": "code",
      "metadata": {
        "id": "0HJsbUXROtJr",
        "colab_type": "code",
        "colab": {
          "base_uri": "https://localhost:8080/",
          "height": 34
        },
        "outputId": "e91c739b-2ccb-4fe9-9f66-80986ab1f260"
      },
      "source": [
        "dicionario.clear()\n",
        "print(\"Deletando todo o dicionário:\", dicionario)"
      ],
      "execution_count": 228,
      "outputs": [
        {
          "output_type": "stream",
          "text": [
            "Deletando todo o dicionário: {}\n"
          ],
          "name": "stdout"
        }
      ]
    },
    {
      "cell_type": "markdown",
      "metadata": {
        "id": "JWU11H5-PH3J",
        "colab_type": "text"
      },
      "source": [
        "**Comandos de entrada de dados:**\n",
        "\n",
        "\n",
        "---\n",
        "\n",
        "O input sempre armazena dados em str\n",
        "\n",
        "---\n",
        "\n",
        "Realizando a entrada de dados:"
      ]
    },
    {
      "cell_type": "code",
      "metadata": {
        "id": "DJzeF1oTPvq0",
        "colab_type": "code",
        "colab": {
          "base_uri": "https://localhost:8080/",
          "height": 68
        },
        "outputId": "72c6e1db-56cc-476b-f737-689a9f01016b"
      },
      "source": [
        "base= float(input('Entre com um valor para a base: '))\n",
        "expoente= float(input('Entre com um valor para ser o expoente: '))\n",
        "resultado= float(base**expoente)\n",
        "print('Seu resultado é:', resultado)"
      ],
      "execution_count": 240,
      "outputs": [
        {
          "output_type": "stream",
          "text": [
            "Entre com um valor para a base: 10\n",
            "Entre com um valor para ser o expoente: 2\n",
            "Seu resultado é: 100.0\n"
          ],
          "name": "stdout"
        }
      ]
    },
    {
      "cell_type": "markdown",
      "metadata": {
        "id": "LSgddvyjQ2cY",
        "colab_type": "text"
      },
      "source": [
        "Transformando o float em string:"
      ]
    },
    {
      "cell_type": "code",
      "metadata": {
        "id": "ukq2Ypg-Q4XO",
        "colab_type": "code",
        "colab": {
          "base_uri": "https://localhost:8080/",
          "height": 34
        },
        "outputId": "a2a0b941-2518-4b0f-b502-5034fb952a73"
      },
      "source": [
        "print(str(base)+'^'+str(expoente),'=', resultado)"
      ],
      "execution_count": 244,
      "outputs": [
        {
          "output_type": "stream",
          "text": [
            "10.0^2.0 = 100.0\n"
          ],
          "name": "stdout"
        }
      ]
    },
    {
      "cell_type": "markdown",
      "metadata": {
        "id": "APwGgDJJRdz2",
        "colab_type": "text"
      },
      "source": [
        "Formatando como os dados vão aparecer:\n",
        "\n",
        "---\n",
        "\n",
        "Quantidade de casas decimais:\n"
      ]
    },
    {
      "cell_type": "code",
      "metadata": {
        "id": "Re0nwGW_PLDJ",
        "colab_type": "code",
        "colab": {
          "base_uri": "https://localhost:8080/",
          "height": 34
        },
        "outputId": "28a12c24-6497-4ccc-c85f-0bf3f98b49a9"
      },
      "source": [
        "print(\" %1.2f ^%1.2f = %1.4f \" %(base, expoente, resultado))"
      ],
      "execution_count": 246,
      "outputs": [
        {
          "output_type": "stream",
          "text": [
            " 10.00 ^2.00 = 100.0000 \n"
          ],
          "name": "stdout"
        }
      ]
    }
  ]
}